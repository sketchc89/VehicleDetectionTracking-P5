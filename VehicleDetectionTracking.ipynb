{
 "cells": [
  {
   "cell_type": "code",
   "execution_count": 62,
   "metadata": {
    "collapsed": true
   },
   "outputs": [],
   "source": [
    "import os\n",
    "import time\n",
    "import glob\n",
    "import cv2\n",
    "import numpy as np\n",
    "import matplotlib.pyplot as plt\n",
    "import matplotlib.image as mpimg\n",
    "from sklearn.preprocessing import StandardScaler\n",
    "from sklearn.svm import LinearSVC\n",
    "from sklearn.model_selection import train_test_split\n",
    "from skimage.feature import hog\n",
    "%matplotlib inline "
   ]
  },
  {
   "cell_type": "code",
   "execution_count": 81,
   "metadata": {
    "scrolled": true
   },
   "outputs": [
    {
     "name": "stdout",
     "output_type": "stream",
     "text": [
      "Reading 17760 images\n",
      "Extracted features from 0 images\n",
      "Extracted features from 3000 images\n",
      "Extracted features from 6000 images\n",
      "Extracted features from 9000 images\n",
      "Extracted features from 12000 images\n",
      "Extracted features from 15000 images\n",
      "Extracted features from 17759 images\n",
      "(17760, 4704)\n",
      "Fit in 1.3e+01 s\n",
      "Test acc 0.99\n"
     ]
    }
   ],
   "source": [
    "classifier = train_car_classifier('./data/vehicles/', \n",
    "                                  './data/non-vehicles/')"
   ]
  },
  {
   "cell_type": "code",
   "execution_count": 80,
   "metadata": {
    "collapsed": true
   },
   "outputs": [],
   "source": [
    "#------------------80-chars----------------------------------------------------|\n",
    "def train_car_classifier(veh_path, nonveh_path):\n",
    "    \"\"\"\n",
    "    Trains a classifier to recognize cars\n",
    "    \n",
    "    :param veh_path: Directory where vehicles images are found\n",
    "    :param nonveh_path: Directory where non-vehicle images are found\n",
    "    :return classifier: A classifier that detects cars \n",
    "    \"\"\"\n",
    "    veh_files = retrieve_files(veh_path, 'png')\n",
    "    nonveh_files = retrieve_files(nonveh_path, 'png')\n",
    "    img_files = np.hstack((veh_files, nonveh_files))\n",
    "    labels = np.hstack((np.ones(veh_files.shape[0]), \n",
    "                        np.zeros(nonveh_files.shape[0])))\n",
    "    #TODO: Remove Random State\n",
    "    features = []\n",
    "    print('Reading {0} images'.format(len(img_files)))\n",
    "    for count, img_file in enumerate(img_files):\n",
    "        if count % 3000 == 0 or count == len(img_files) - 1:\n",
    "            print('Extracted features from {0} images'.format(count))\n",
    "        img = mpimg.imread(img_file)\n",
    "        if img.dtype == np.dtype(np.float32):\n",
    "            img = np.uint8(img*255)\n",
    "        features.append(get_classifier_features(img, color_space='HSV'))\n",
    "    X = np.asarray(features)\n",
    "    X_scaler = StandardScaler().fit(X)\n",
    "    X_scaled = X_scaler.transform(X)\n",
    "    print(X.shape)\n",
    "    \n",
    "    X_train, X_test, y_train, y_test = train_test_split(X_scaled, labels, \n",
    "                                                        random_state=0)\n",
    "    \n",
    "    classifier = LinearSVC()\n",
    "    t_i = time.time()\n",
    "    classifier.fit(X_train, y_train)\n",
    "    t_f = time.time()\n",
    "    print('Fit in {0:.02} s'.format(t_f - t_i))\n",
    "    print('Test acc {0:.02}'.format(classifier.score(X_test, y_test)))\n",
    "    return classifier"
   ]
  },
  {
   "cell_type": "code",
   "execution_count": 45,
   "metadata": {
    "collapsed": true
   },
   "outputs": [],
   "source": [
    "#------------------80-chars----------------------------------------------------|\n",
    "def retrieve_files(file_folder, file_format):\n",
    "    \"\"\"\n",
    "    Returns an array of all image *files* in a folder with a specified format\n",
    "    \n",
    "    :param file_folder: Folder to find images as a string\n",
    "    :param file_format: File format of the image as a string\n",
    "    \"\"\"\n",
    "    if file_format[0] != '.':\n",
    "        file_format = '.' + file_format\n",
    "    image_files = glob.glob(file_folder + '/*/*' + file_format)\n",
    "    return np.array([file for file in image_files])"
   ]
  },
  {
   "cell_type": "code",
   "execution_count": 5,
   "metadata": {
    "collapsed": true
   },
   "outputs": [],
   "source": [
    "#------------------80-chars----------------------------------------------------|\n",
    "def load_images(file_folder, file_format):\n",
    "    \"\"\"\n",
    "    Returns an array of all images in a folder with a specified format\n",
    "    \n",
    "    :param file_folder: Folder to find images as a string\n",
    "    :param file_format: File format of the image as a string\n",
    "    \"\"\"\n",
    "    if file_format[0] != '.':\n",
    "        file_format = '.' + file_format\n",
    "    image_files = glob.glob(file_folder + '/*/*' + file_format)\n",
    "    return np.array([mpimg.imread(file) for file in image_files])"
   ]
  },
  {
   "cell_type": "code",
   "execution_count": 2,
   "metadata": {
    "collapsed": true
   },
   "outputs": [],
   "source": [
    "#------------------80-chars----------------------------------------------------|\n",
    "def sliding_windows(img, window_size=64, overlap=0.5):\n",
    "    \"\"\"\n",
    "    Return ndarray of windows image with overlap.\n",
    "    \n",
    "    :param img: Image to create windows from\n",
    "    :param window_size: Window width and height \n",
    "    :param overlap: Decimal fraction of overlap\n",
    "    :return windows: ndarray of windows\n",
    "    \"\"\"\n",
    "    height = img.shape[0]\n",
    "    width = img.shape[1]\n",
    "    \n",
    "    windows = []\n",
    "    step = np.int(window_size*overlap)\n",
    "    for y in range(0, height, step):\n",
    "        for x in range(0, width, step):\n",
    "            windows.append(np.array([y, y + step, x, x + step]))\n",
    "    windows = np.asarray(windows, dtype=uint16)\n",
    "    return windows"
   ]
  },
  {
   "cell_type": "code",
   "execution_count": 6,
   "metadata": {
    "collapsed": true
   },
   "outputs": [],
   "source": [
    "#------------------80-chars----------------------------------------------------|\n",
    "def crop_image(img, x_usable=(0.0,1.0), y_usable=(0.4,1.0)):\n",
    "    \"\"\"\n",
    "    Crop parts of the image where cars should not exist\n",
    "    \n",
    "    :param img: Image to be cropped\n",
    "    :param x_usable: Tuple - Fraction of image 0-1 in x start-end that's usable\n",
    "    :param y_usable: Tuple - Fraction of image 0-1 in y start-end that's usable\n",
    "    \"\"\"\n",
    "    x_start = np.int(img.shape[0]*x_usable[0])\n",
    "    x_end   = np.int(img.shape[0]*x_usable[1])\n",
    "    y_start = np.int(img.shape[1]*y_usable[0])\n",
    "    y_end   = np.int(img.shape[1]*y_usable[1])\n",
    "    return img[x_start:x_end,y_start:y_end,:]"
   ]
  },
  {
   "cell_type": "code",
   "execution_count": null,
   "metadata": {},
   "outputs": [],
   "source": [
    "my_img = mpimg.imread('./test_images/test1.jpg')\n",
    "plt.imshow(my_img)\n",
    "hist_feat = color_hist(my_img)\n",
    "features = get_features(my_img, 8, 2, 9)"
   ]
  },
  {
   "cell_type": "code",
   "execution_count": 72,
   "metadata": {
    "collapsed": true
   },
   "outputs": [],
   "source": [
    "def convert_color(img, cspace='RGB'):\n",
    "    \"\"\"\n",
    "    Converts an RGB image to the given color space\n",
    "    Available - RGB, BGR, HSV, HLS, YUV, YCC, LUV, LAB\n",
    "    \n",
    "    :param img: Image to convert\n",
    "    :param cspace: Colorspace to convert image to\n",
    "    \"\"\"\n",
    "    \n",
    "    if cspace == 'RGB':\n",
    "        return img\n",
    "    if cspace == 'BGR':\n",
    "        return cv2.cvtColor(img, cv2.COLOR_RGB2BGR)\n",
    "    if cspace == 'HSV':\n",
    "        return cv2.cvtColor(img, cv2.COLOR_RGB2HSV)\n",
    "    if cspace == 'HLS':\n",
    "        return cv2.cvtColor(img, cv2.COLOR_RGB2HLS)\n",
    "    if cspace == 'YUV':\n",
    "        return cv2.cvtColor(img, cv2.COLOR_RGB2YUV)\n",
    "    if cspace == 'YCC':\n",
    "        return cv2.cvtColor(img, cv2.COLOR_RGB2YCR_CB)\n",
    "    if cspace == 'LUV':\n",
    "        return cv2.cvtColor(img, cv2.COLOR_RGB2LUV)\n",
    "    if cspace == 'LAB':\n",
    "        return cv2.cvtColor(img, cv2.COLOR_RGB2LAB)"
   ]
  },
  {
   "cell_type": "code",
   "execution_count": 28,
   "metadata": {
    "collapsed": true
   },
   "outputs": [],
   "source": [
    "def bin_spatial(img, size=(32,32)):\n",
    "    \"\"\"\n",
    "    Create feature to represent position of color in space\n",
    "    \n",
    "    :param img: Image to extract feature from\n",
    "    :param size: Size at which to extract features\n",
    "    \"\"\"\n",
    "    ch_0 = cv2.resize(img[:,:,0], size).ravel()\n",
    "    ch_1 = cv2.resize(img[:,:,1], size).ravel()\n",
    "    ch_2 = cv2.resize(img[:,:,2], size).ravel()\n",
    "    return np.hstack((ch_0, ch_1, ch_2))"
   ]
  },
  {
   "cell_type": "code",
   "execution_count": 73,
   "metadata": {
    "collapsed": true
   },
   "outputs": [],
   "source": [
    "#------------------80-chars----------------------------------------------------|\n",
    "def color_hist(img, n_bins=32):\n",
    "    \"\"\"\n",
    "    Create feature vector of an images distribution of colors with histograms\n",
    "    \n",
    "    :param img: Image to extract color features from\n",
    "    :param n_bins: Number of bins to sort pixel intensities into\n",
    "    \"\"\"\n",
    "    \n",
    "    ch_0_hist = np.histogram(img[:,:,0], bins=n_bins)[0]\n",
    "    ch_1_hist = np.histogram(img[:,:,1], bins=n_bins)[0]\n",
    "    ch_2_hist = np.histogram(img[:,:,2], bins=n_bins)[0]\n",
    "    return np.hstack((ch_0_hist, ch_1_hist, ch_2_hist))"
   ]
  },
  {
   "cell_type": "code",
   "execution_count": 39,
   "metadata": {},
   "outputs": [],
   "source": [
    "img = mpimg.imread('./data/vehicles/GTI_Right/image0000.png')\n",
    "if img.dtype == np.dtype(np.float32):\n",
    "    img = np.uint8(img*255)\n",
    "feat = get_classifier_features(img)"
   ]
  },
  {
   "cell_type": "code",
   "execution_count": 79,
   "metadata": {
    "collapsed": true
   },
   "outputs": [],
   "source": [
    "def get_hog_features(img, channel, pix_per_cell, cell_per_block, orient):\n",
    "    \"\"\"\n",
    "    Extract histogram of gradient features from an image\n",
    "    \n",
    "    :param img: Image to extract features from\n",
    "    :param channel: Channel to include 0-1st, 1-2nd, 2-3rd, 3-all\n",
    "    :param pix_per_cell: Pixels per hog cell\n",
    "    :param cell_per_block: Cells ber hog block\n",
    "    :param orient: Direction bins in histogram for HOG\n",
    "    :return hog_feat: HOG feature vector\n",
    "    \"\"\"\n",
    "    hog_feat = []\n",
    "    if channel == 0 or channel == 3:\n",
    "        hog_0 = hog(img[:,:,0], orientations=orient, \n",
    "                    pixels_per_cell=(pix_per_cell, pix_per_cell), \n",
    "                    cells_per_block=(cell_per_block, cell_per_block),\n",
    "                    feature_vector=False, block_norm='L2-Hys')\n",
    "        hog_feat.append(np.ravel(hog_0))\n",
    "    if channel == 1 or channel == 3:\n",
    "        hog_1 = hog(img[:,:,1], orientations=orient, \n",
    "                    pixels_per_cell=(pix_per_cell, pix_per_cell), \n",
    "                    cells_per_block=(cell_per_block, cell_per_block),\n",
    "                    feature_vector=False, block_norm='L2-Hys')\n",
    "        hog_feat.append(np.ravel(hog_1))\n",
    "    if channel == 2 or channel == 3:\n",
    "        hog_2 = hog(img[:,:,2], orientations=orient, \n",
    "                    pixels_per_cell=(pix_per_cell, pix_per_cell), \n",
    "                    cells_per_block=(cell_per_block, cell_per_block),\n",
    "                    feature_vector=False, block_norm='L2-Hys')\n",
    "        hog_feat.append(np.ravel(hog_2))\n",
    "    hog_feat = np.hstack(hog_feat)\n",
    "    return hog_feat\n",
    "        "
   ]
  },
  {
   "cell_type": "code",
   "execution_count": 75,
   "metadata": {
    "collapsed": true
   },
   "outputs": [],
   "source": [
    "#------------------80-chars----------------------------------------------------|\n",
    "def get_classifier_features(img, hist_bool=True, spatial_bool=True, \n",
    "                            hog_bool=True, color_space='RGB', hog_channel=3, \n",
    "                            pix_per_cell=8, cell_per_block=8, orient=8):\n",
    "    \"\"\"\n",
    "    Combine different feature vectors together for each image\n",
    "    \n",
    "    :param img: Image to extract features from\n",
    "    :param hist_bool: Whether or not to include histogram of color features\n",
    "    :param spatial_bool: Whether or not to include spatial color features\n",
    "    :param hog_bool: Whether or not to include histogram of gradient features\n",
    "    :param color_space: Color space to convert features to before extracting\n",
    "    :param hog_channel: Channel to include in HOG features. 0-1st, 3-all\n",
    "    :param pix_per_cell: Pixels per hog cell\n",
    "    :param cell_per_block: Cells ber hog block\n",
    "    :param orient: Direction bins in histogram for HOG\n",
    "    :return features: HOG feature vector\n",
    "    \"\"\"\n",
    "    features = []\n",
    "    height, width, _ = img.shape\n",
    "    hist_feat = []\n",
    "    spatial_feat = []\n",
    "    hog_feat = []\n",
    "    img = convert_color(img, cspace=color_space)\n",
    "    #TODO: Loop over image\n",
    "    if hist_bool:\n",
    "        hist_feat = color_hist(img)\n",
    "        features.append(hist_feat)\n",
    "    if spatial_bool:\n",
    "        spatial_feat = bin_spatial(img)\n",
    "        features.append(spatial_feat)\n",
    "    if hog_bool:\n",
    "        hog_feat = get_hog_features(img, hog_channel, pix_per_cell, \n",
    "                                    cell_per_block, orient)\n",
    "        features.append(hog_feat)\n",
    "    features = np.hstack((hist_feat, spatial_feat, hog_feat))\n",
    "    return features"
   ]
  },
  {
   "cell_type": "code",
   "execution_count": 2,
   "metadata": {
    "collapsed": true
   },
   "outputs": [],
   "source": [
    "def pipeline(img):\n",
    "    \"\"\"\n",
    "    Pipeline detects vehicles in an image\n",
    "    \n",
    "    :param img: Image to detect cars in\n",
    "    :return final_img: Image with bounding boxes around cars\n",
    "    \"\"\"\n",
    "    return final_img"
   ]
  },
  {
   "cell_type": "code",
   "execution_count": null,
   "metadata": {
    "collapsed": true
   },
   "outputs": [],
   "source": [
    "train_car_classifier()"
   ]
  },
  {
   "cell_type": "code",
   "execution_count": 5,
   "metadata": {
    "collapsed": true
   },
   "outputs": [],
   "source": [
    "#------------------80-chars----------------------------------------------------|\n",
    "def load_images(file_folder, file_format):\n",
    "    \"\"\"\n",
    "    Returns an array of all images in a folder with a specified format\n",
    "    \n",
    "    :param file_folder: Folder to find images as a string\n",
    "    :param file_format: File format of the image as a string\n",
    "    \"\"\"\n",
    "    if file_format[0] != '.':\n",
    "        file_format = '.' + file_format\n",
    "    image_files = glob.glob(file_folder + '/*/*' + file_format)\n",
    "    return np.array([mpimg.imread(file) for file in image_files])"
   ]
  }
 ],
 "metadata": {
  "kernelspec": {
   "display_name": "Python 3",
   "language": "python",
   "name": "python3"
  },
  "language_info": {
   "codemirror_mode": {
    "name": "ipython",
    "version": 3
   },
   "file_extension": ".py",
   "mimetype": "text/x-python",
   "name": "python",
   "nbconvert_exporter": "python",
   "pygments_lexer": "ipython3",
   "version": "3.5.4"
  }
 },
 "nbformat": 4,
 "nbformat_minor": 2
}
