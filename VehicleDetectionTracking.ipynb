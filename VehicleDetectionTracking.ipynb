{
 "cells": [
  {
   "cell_type": "code",
   "execution_count": 1,
   "metadata": {
    "collapsed": true
   },
   "outputs": [],
   "source": [
    "import cv2\n",
    "import numpy as np\n",
    "import matplotlib.pyplot as plt\n",
    "import matplotlib.image as mpimg"
   ]
  },
  {
   "cell_type": "code",
   "execution_count": 3,
   "metadata": {
    "collapsed": true
   },
   "outputs": [],
   "source": [
    "#------------------80-chars----------------------------------------------------|\n",
    "def train_car_classifier(img_paths):\n",
    "    \"\"\"\n",
    "    Trains a classifier to recognize cars\n",
    "    \n",
    "    :param img_paths: A list of image filepaths\n",
    "    :return classifier: A classifier that detects cars \n",
    "    \"\"\"\n",
    "    return classifier"
   ]
  },
  {
   "cell_type": "code",
   "execution_count": 4,
   "metadata": {
    "collapsed": true
   },
   "outputs": [],
   "source": [
    "#------------------80-chars----------------------------------------------------|\n",
    "def crop_image(img, x_usable=(0.0,1.0), y_usable=(0.4,1.0)):\n",
    "    \"\"\"\n",
    "    Crop parts of the image where cars should not exist\n",
    "    \n",
    "    :param img: Image to be cropped\n",
    "    :param x_usable: Tuple - Fraction of image 0-1 in x start-end that's usable\n",
    "    :param y_usable: Tuple - Fraction of image 0-1 in y start-end that's usable\n",
    "    \"\"\"\n",
    "    x_start = np.int(img.shape[0]*x_usable[0])\n",
    "    x_end   = np.int(img.shape[0]*x_usable[1])\n",
    "    y_start = np.int(img.shape[1]*y_usable[0])\n",
    "    y_end   = np.int(img.shape[1]*y_usable[1])\n",
    "    return img[x_start:x_end,y_start:y_end,:]"
   ]
  },
  {
   "cell_type": "code",
   "execution_count": null,
   "metadata": {
    "collapsed": true
   },
   "outputs": [],
   "source": [
    "#------------------80-chars----------------------------------------------------|\n",
    "def get_hog_features(img, pix_per_cell, cell_per_block, orient):\n",
    "    \"\"\"\n",
    "    Extract histogram of gradient features from an image\n",
    "    \n",
    "    :param img: Image to extract features from\n",
    "    :return features: HOG feature vector\n",
    "    \"\"\"\n",
    "    ch_0 = img[:,:,0]\n",
    "    ch_1 = img[:,:,1]\n",
    "    ch_2 = img[:,:,2]\n",
    "    \n",
    "    hog_0 = get_hog_features(ch_0, orient, pix_per_cell, cell_per_block,\n",
    "                             feature_vec=False)\n",
    "    hog_1 = get_hog_features(ch_1, orient, pix_per_cell, cell_per_block,\n",
    "                             feature_vec=False)\n",
    "    hog_2 = get_hog_features(ch_2, orient, pix_per_cell, cell_per_block,\n",
    "                             feature_vec=False)\n",
    "    #TODO: Iterate over hog_* and extract hog_feature vectors\n",
    "    return features"
   ]
  },
  {
   "cell_type": "code",
   "execution_count": 2,
   "metadata": {
    "collapsed": true
   },
   "outputs": [],
   "source": [
    "def pipeline(img):\n",
    "    \"\"\"\n",
    "    Pipeline detects vehicles in an image\n",
    "    \n",
    "    :param img: Image to detect cars in\n",
    "    :return final_img: Image with bounding boxes around cars\n",
    "    \"\"\"\n",
    "    return final_img"
   ]
  },
  {
   "cell_type": "code",
   "execution_count": null,
   "metadata": {
    "collapsed": true
   },
   "outputs": [],
   "source": [
    "train_car_classifier()"
   ]
  }
 ],
 "metadata": {
  "kernelspec": {
   "display_name": "Python 3",
   "language": "python",
   "name": "python3"
  },
  "language_info": {
   "codemirror_mode": {
    "name": "ipython",
    "version": 3
   },
   "file_extension": ".py",
   "mimetype": "text/x-python",
   "name": "python",
   "nbconvert_exporter": "python",
   "pygments_lexer": "ipython3",
   "version": "3.5.4"
  }
 },
 "nbformat": 4,
 "nbformat_minor": 2
}
